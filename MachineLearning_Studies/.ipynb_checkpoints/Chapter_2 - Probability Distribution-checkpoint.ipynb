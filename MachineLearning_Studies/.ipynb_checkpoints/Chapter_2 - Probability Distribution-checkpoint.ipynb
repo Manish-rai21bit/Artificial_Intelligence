{
 "cells": [
  {
   "cell_type": "markdown",
   "metadata": {
    "collapsed": true
   },
   "source": [
    "## Probability Distribution"
   ]
  },
  {
   "cell_type": "markdown",
   "metadata": {},
   "source": [
    "In this chapter we go through some important probability distributions along with their properties. <br>\n",
    "**Gaussian Distribution**: Also Known as normal Distribution is a very popular model for the distribution of continuous variables. Few important lectures that I refered apart from going through the textbook are: <br>\n",
    "1. [NPTEL Lecture](https://www.youtube.com/watch?v=YgExEVji7xs) by Dr. J Maiti\n",
    "2. [Harvard University](https://www.youtube.com/watch?v=72QjzHnYvL0&t=2698s) \n",
    "<br> \n",
    "\n",
    "Gaussian Distribution is one of the famous distribution models used in various types of data. The _probability distribution_ of a univariate random variable X following the gaussian distribution can be written as:<br>\n",
    "\n",
    "\\begin{equation}\\ N_1(x | \\mu, \\sigma^2) = \\frac{1}{\\sqrt(2\\pi \\sigma^2)} \\exp{[\\frac{-1}{2} \\frac{(x-\\mu)^2}{\\sigma^2}]}\\end{equation}\n",
    "\n",
    "The pdf for a Multivariate Gaussian Distribution, with D - i.i.d parameters, can be written intuitively as(the proof of the same is in the video lecture 1):\n",
    "\\begin{equation}\\ N_D(X | \\mu, \\Sigma) = \\frac{1}{(2\\pi)^{D/2} \\sqrt{\\Sigma}} \\exp{[\\frac{-1}{2} (X-\\mu)^T \\Sigma^{-1}(X-\\mu)]}\\end{equation}\n",
    "\n",
    "Where X is a set if random variables [x1, x2, ..., xD]"
   ]
  },
  {
   "cell_type": "markdown",
   "metadata": {
    "collapsed": true
   },
   "source": [
    "Considering the Geometrical form of the Gaussian distribution. The function depends on X through a quadratic form \n",
    "\\begin{equation}\\ \\Delta^2 = (x - \\mu)^T \\Sigma^{-1} (X - \\mu) \\text{--- where the Mahalanobis distance is  } \\Delta\\end{equation}"
   ]
  },
  {
   "cell_type": "code",
   "execution_count": null,
   "metadata": {
    "collapsed": true
   },
   "outputs": [],
   "source": []
  }
 ],
 "metadata": {
  "kernelspec": {
   "display_name": "Python 2",
   "language": "python",
   "name": "python2"
  },
  "language_info": {
   "codemirror_mode": {
    "name": "ipython",
    "version": 2
   },
   "file_extension": ".py",
   "mimetype": "text/x-python",
   "name": "python",
   "nbconvert_exporter": "python",
   "pygments_lexer": "ipython2",
   "version": "2.7.10"
  }
 },
 "nbformat": 4,
 "nbformat_minor": 1
}
