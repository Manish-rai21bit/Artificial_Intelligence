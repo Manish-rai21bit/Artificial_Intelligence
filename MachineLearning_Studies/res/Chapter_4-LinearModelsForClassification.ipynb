{
 "cells": [
  {
   "cell_type": "markdown",
   "metadata": {
    "collapsed": true
   },
   "source": [
    "# Linear Models for Classification\n",
    "\n",
    "**Definition** - In classification we take an input vector **X** and assign it to one of the **K** classes $C_k$. The input space in divided into K regions by K - 1 decision surfaces.<br>\n",
    "**Three approaches to the classification problem are :**<br>\n",
    "1. Discriminant Function\n",
    "2. Conditional probability and then using decision threshold for class assignment\n",
    "3. Generative approach"
   ]
  },
  {
   "cell_type": "markdown",
   "metadata": {},
   "source": [
    "Scipy reference - [https://scipy.github.io/old-wiki/pages/Cookbook/LinearClassification.html](https://scipy.github.io/old-wiki/pages/Cookbook/LinearClassification.html) <br>\n",
    "\n",
    "### 4.1 Discriminant Function\n",
    "A discriminant function takes an input and assigns it to one of the output classes. <br> \n",
    "$y(x) = w^Tx +w_0$<br>\n",
    "Think about an example with 2 classes $t = {0, 1}$ where $C_1 if y(x) >= 0 and C_2 if y(x) < 0$ and try to visualize how the decision boundry looks and changes with different set of input vectors. Try the following :\n",
    "1. _Least square for classification_ \n",
    "2. _Fisher's Linear Discriminant for drawing the correct decision boundry_"
   ]
  },
  {
   "cell_type": "code",
   "execution_count": 1,
   "metadata": {},
   "outputs": [
    {
     "name": "stdout",
     "output_type": "stream",
     "text": [
      "vector of max weights [-0.02153031 -0.07918534  0.07325388  0.01874012]\n"
     ]
    },
    {
     "data": {
      "image/png": "[encoded data removed]",
      "text/plain": [
       "<matplotlib.figure.Figure at 0x102e06590>"
      ]
     },
     "metadata": {},
     "output_type": "display_data"
    }
   ],
   "source": [
    "%matplotlib inline\n",
    "# Fisher's Linear Discriminant\n",
    "from __future__ import division\n",
    "import numpy as np\n",
    "import matplotlib.pyplot as plt\n",
    " \n",
    "def read_data():\n",
    "    f=open(\"/Users/manishrai/Desktop/iris.txt\", 'r')\n",
    "    lines=[line.strip() for line in f.readlines()]\n",
    "    f.close()\n",
    " \n",
    "    lines=[line.split(\",\") for line in lines if line]\n",
    " \n",
    "    class1=np.array([line[:4] for line in lines if line[-1]==\"Iris-setosa\"], dtype=np.float)\n",
    "\n",
    "    class2=np.array([line[:4] for line in lines if line[-1]!=\"Iris-setosa\"], dtype=np.float)\n",
    "\n",
    "    return class1, class2\n",
    "  \n",
    "def main():\n",
    "\n",
    "    class1, class2=read_data()\n",
    "\n",
    "    mean1=np.mean(class1, axis=0)\n",
    "    mean2=np.mean(class2, axis=0)\n",
    " \n",
    "    #calculate variance within class\n",
    "    Sw=np.dot((class1-mean1).T, (class1-mean1))+np.dot((class2-mean2).T, (class2-mean2))\n",
    "\n",
    "    #calculate weights which maximize linear separation\n",
    "    w=np.dot(np.linalg.inv(Sw), (mean2-mean1))\n",
    "\n",
    "    print \"vector of max weights\", w\n",
    "    #projection of classes on 1D space\n",
    "    plt.plot(np.dot(class1, w), [0]*class1.shape[0], \"bo\", label=\"Iris-setosa\")\n",
    "    plt.plot(np.dot(class2, w), [0]*class2.shape[0], \"go\", label=\"Iris-versicolor and Iris-virginica\")\n",
    "    plt.legend()\n",
    "  \n",
    "    plt.show()\n",
    " \n",
    "main()\n"
   ]
  },
  {
   "cell_type": "code",
   "execution_count": 3,
   "metadata": {},
   "outputs": [
    {
     "name": "stdout",
     "output_type": "stream",
     "text": [
      "/Users/manishrai/Desktop/DSMLAI/Artificial_Intelligence/MachineLearning_Studies/res\r\n"
     ]
    }
   ],
   "source": [
    "!pwd"
   ]
  },
  {
   "cell_type": "markdown",
   "metadata": {
    "collapsed": true
   },
   "source": [
    "## 4.2 Probabilistic Generative Model\n",
    "\n",
    "To get to the posterior probability $p(c_k | x)$ we'd be use the Bayes rule to in the form:\n",
    "\\begin{equation}\n",
    "p(c_k | x) = \\frac{p(x | c_k)p(c_k)}{\\Sigma_{i=1}^K p(x | c_k)} \n",
    "= \\frac{1}{1 + \\frac{p(x | c_2)p(c_2)}{p(x | c_1)p(c_1)}}\n",
    "\\end{equation}\n",
    "Where, a = $ln(\\frac{p(x | c_2)p(c_2)}{p(x | c_1)p(c_1)})$ <br>\n",
    "This leads to the logistic sigmoid function form given by:<br>\n",
    "$\\sigma(a) = \\frac{1}{1+ \\exp(-a)}$ <br>\n",
    "The Sigmoid function is a great function as it maps the whole real number onto a finite interval."
   ]
  },
  {
   "cell_type": "code",
   "execution_count": 4,
   "metadata": {},
   "outputs": [
    {
     "data": {
      "image/png": "[encoded data removed]",
      "text/plain": [
       "<matplotlib.figure.Figure at 0x106d6f990>"
      ]
     },
     "metadata": {},
     "output_type": "display_data"
    },
    {
     "name": "stdout",
     "output_type": "stream",
     "text": [
      "\n"
     ]
    }
   ],
   "source": [
    "from __future__ import division\n",
    "import numpy as np\n",
    "import matplotlib.pyplot as plt\n",
    "import math\n",
    "\n",
    "def read_data():\n",
    "    f=open(\"/Users/manishrai/Desktop/iris.txt\", 'r')\n",
    "    lines=[line.strip() for line in f.readlines()]\n",
    "    f.close()\n",
    "\n",
    "    lines=[line.split(\",\") for line in lines if line]\n",
    "\n",
    "    data=np.array([line[:4] for line in lines if line], dtype=np.float) \n",
    "\n",
    "    class1=np.array([line[:4] for line in lines if line[-1]==\"Iris-setosa\"], dtype=np.float)\n",
    "\n",
    "    class2=np.array([line[:4] for line in lines if line[-1]==\"Iris-virginica\"], dtype=np.float)\n",
    "\n",
    "    class3=np.array([line[:4] for line in lines if line[-1]==\"Iris-versicolor\"], dtype=np.float)\n",
    "\n",
    "    #list of class labels\n",
    "    labels=[]\n",
    "    for line in lines:\n",
    "        strt=line.pop()\n",
    "        labels.append(strt)\n",
    "    #create array of labels\n",
    "    labels=[line.split(\",\") for line in labels if line]\n",
    "    t=np.zeros(shape=(150, 3))\n",
    "    #create target vector encoded according to 1-of-K scheme\n",
    "    for i in xrange(len(data)):\n",
    "        if labels[i]==[\"Iris-setosa\"]: t[i][0]=1\n",
    "        elif labels[i]==[\"Iris-versicolor\"]: t[i][1]=1\n",
    "        elif labels[i]==[\"Iris-virginica\"]: t[i][2]=1\n",
    "  \n",
    "    return class1, class2, class3, data, t\n",
    "\n",
    "def gaussian(x, mean, cov):\n",
    "    xm=np.reshape((x-mean), (-1, 1))\n",
    "    px=1/(math.pow(2.0*math.pi, 2))*1/math.sqrt(np.linalg.det(cov))*math.exp(-(np.dot(np.dot(xm.T, np.linalg.inv(cov)), xm))/2)\n",
    "    return px\n",
    "\n",
    "def main():\n",
    "    class1, class2, class3, data, t=read_data()\n",
    " \n",
    "    count=np.zeros(shape=(150,1))\n",
    "    t_assigned=np.zeros(shape=(150, 3))\n",
    "    cov=np.zeros(shape=(3, 4, 4))\n",
    "    mean=np.zeros(shape=(3, 4))\n",
    "\n",
    "    #compute means for each class\n",
    "    mean1=class1.mean(axis=0)\n",
    "    mean2=class2.mean(axis=0)\n",
    "    mean3=class3.mean(axis=0)\n",
    "    #compute covariance matrices, such that the columns are variables and rows are observations of variables\n",
    "    cov1=np.cov(class1, rowvar=0)\n",
    "    cov2=np.cov(class2, rowvar=0)\n",
    "    cov3=np.cov(class3, rowvar=0)\n",
    "  \n",
    "    #compute gaussian likelihood functions p(x|Ck) for each class\n",
    "    for i in xrange(len(data)):\n",
    "        px1=(1/3.0)*gaussian(data[i], mean1, cov1)\n",
    "        px2=(1/3.0)*gaussian(data[i], mean2, cov2)\n",
    "        px3=(1/3.0)*gaussian(data[i], mean3, cov3)\n",
    "        m=np.max([px1, px2, px3])\n",
    "        #compute posterior probability p(Ck|x) assuming that p(x|Ck) is gaussian and the entire expression is wrapped by sigmoid function \n",
    "        pc1=((math.exp(px1)*math.exp(-m))*math.exp(m))/((math.exp(px2)*math.exp(-m)+math.exp(px3)*math.exp(-m))*math.exp(m))\n",
    "        pc2=((math.exp(px2)*math.exp(-m))*math.exp(m))/((math.exp(px1)*math.exp(-m)+math.exp(px3)*math.exp(-m))*math.exp(m))\n",
    "        pc3=((math.exp(px3)*math.exp(-m))*math.exp(m))/((math.exp(px1)*math.exp(-m)+math.exp(px2)*math.exp(-m))*math.exp(m))\n",
    "        #assign p(Ck|x)=1 if p(Ck|x)>>p(Cj|x) for all j!=k\n",
    "        if pc1>pc2 and pc1>pc3: t_assigned[i][0]=1\n",
    "        elif pc3>pc1 and pc3>pc2: t_assigned[i][1]=1\n",
    "        elif pc2>pc1 and pc2>pc3: t_assigned[i][2]=1\n",
    "    #count the number of misclassifications\n",
    "        for j in xrange(3):\n",
    "            if t[i][j]-t_assigned[i][j]!=0: count[i]=1\n",
    "    \n",
    "    cov=[cov1, cov2, cov3]\n",
    "    mean=[mean1, mean2, mean3]\n",
    " \n",
    "    t1=np.zeros(shape=(len(class1), 1))\n",
    "    t2=np.zeros(shape=(len(class2), 1))\n",
    "    t3=np.zeros(shape=(len(class3), 1))\n",
    "    for i in xrange(len(data)):\n",
    "        for j in xrange(len(class1)):\n",
    "            if t_assigned[i][0]==1: t1[j]=1\n",
    "            elif t_assigned[i][1]==1: t2[j]=2\n",
    "            elif t_assigned[i][2]==1: t3[j]=3\n",
    " \n",
    "    plt.plot(t1, \"bo\", label=\"Iris-setosa\")\n",
    "    plt.plot(t2, \"go\", label=\"Iris-versicolor\")\n",
    "    plt.plot(t3, \"ro\", label=\"Iris-virginica\")\n",
    "    plt.legend()\n",
    "    plt.show()\n",
    "   \n",
    "    #print \"number of misclassifications\", sum(count), \"assigned labels to data points\", t_assigned, \"target data\", t\n",
    "\n",
    "main()\n"
   ]
  },
  {
   "cell_type": "code",
   "execution_count": null,
   "metadata": {
    "collapsed": true
   },
   "outputs": [],
   "source": []
  }
 ],
 "metadata": {
  "kernelspec": {
   "display_name": "Python 2",
   "language": "python",
   "name": "python2"
  },
  "language_info": {
   "codemirror_mode": {
    "name": "ipython",
    "version": 2
   },
   "file_extension": ".py",
   "mimetype": "text/x-python",
   "name": "python",
   "nbconvert_exporter": "python",
   "pygments_lexer": "ipython2",
   "version": "2.7.10"
  }
 },
 "nbformat": 4,
 "nbformat_minor": 1
}
