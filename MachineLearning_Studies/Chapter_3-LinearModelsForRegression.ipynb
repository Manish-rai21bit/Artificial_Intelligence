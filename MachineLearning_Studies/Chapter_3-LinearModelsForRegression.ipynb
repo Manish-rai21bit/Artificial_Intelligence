{
 "cells": [
  {
   "cell_type": "markdown",
   "metadata": {},
   "source": [
    "## Linear Models for Regression\n",
    "\n",
    "What a Linear regression does is to contruct a function **y(x)** whose values for new input **x** constitutes the prediction for the target value **t**.<br> \n",
    "The probabilistic way of looking at it is **P(x | w)** so as to minimize some form of the loss function.\n",
    "\n",
    "The simplest form of a linear regression model can be written as :\n",
    "\\begin{equation}\\ y(x, w) = w_0 + w_1x_1 + ... + w_Dx_D \\end{equation}\n",
    "\n",
    "where **x** = Transpose(x1, x2, ..., xD). This equation is a linear function in **w** & **x** which poses serious limitations to the model. Instead, we can have a model with linear combination of fixed nonlinear functions of input variables of the form:\n",
    "\n",
    "\\begin{equation}\\ y(x, w) = w_0 + \\Sigma_{j = 1}^{M-1}w_j \\phi_j(x) \\end{equation}\n",
    "\n",
    "where, phi_j is the basis function.\n",
    "1. **Linear Basis function Models** - othere way of looking t the basis function is... In any practical applications in pattern recognition and Machine learning, we apply some sort fixed pre-processing or feature extaction to the original data set. If the original vector is **x** then the features can be extracted in terms of the basis vector phi_j(x_j). There are a number of options for the basis function and can be seen in the texts. A few example are:\n",
    "    - first is the Spline function\n",
    "    - second \\begin{equation}\\ \\phi_j(x) = \\exp{-\\frac{(x - \\mu)^2}{2s^2}} \\end{equation}\n",
    "    - Another possible basis function can be \\begin{equation}\\ \\phi_j(x) = \\sigma (\\frac{(x - \\mu_j)}{s})\\end{equation}\n",
    "    - Fourier Basis\n",
    "    - And so on there are multiple options for choosing the basis function... \n",
    "    \n",
    "2. **Maximum likelihood and least squares** - "
   ]
  },
  {
   "cell_type": "code",
   "execution_count": null,
   "metadata": {
    "collapsed": true
   },
   "outputs": [],
   "source": []
  }
 ],
 "metadata": {
  "kernelspec": {
   "display_name": "Python 2",
   "language": "python",
   "name": "python2"
  },
  "language_info": {
   "codemirror_mode": {
    "name": "ipython",
    "version": 2
   },
   "file_extension": ".py",
   "mimetype": "text/x-python",
   "name": "python",
   "nbconvert_exporter": "python",
   "pygments_lexer": "ipython2",
   "version": "2.7.10"
  }
 },
 "nbformat": 4,
 "nbformat_minor": 1
}
